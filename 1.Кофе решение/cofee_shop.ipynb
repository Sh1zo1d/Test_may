{
 "cells": [
  {
   "cell_type": "markdown",
   "id": "904bd330",
   "metadata": {},
   "source": [
    "Компания, занимающаяся оптовыми поставками зернового кофе, запросила отчёт о продажах по месяцам. Интересуют только те продажи, у которых не было доставки: их количество в месяц, процент плохих отзывов, доходность таких транзакций – в разрезе на продажи с вводом клиентом  промокода и без. \n",
    "Имеется выгрузка всех продаж с момента основания компании.\n",
    "Необходимо написать код на Python, который прочтет выгрузку, проведет необходимые расчеты и запишет таблицу-результат в эксель. \n",
    "\n",
    "Поля итоговой таблицы: \n",
    "\n",
    "\n",
    "«Месяц» – «Введен промокод» – «Кол-во транзакций» – «Плохих отзывов, %» - «Доходность, %».\n",
    "\n"
   ]
  },
  {
   "cell_type": "markdown",
   "id": "97fd7cf7",
   "metadata": {},
   "source": [
    "## Загрузка нужных библиотек"
   ]
  },
  {
   "cell_type": "code",
   "execution_count": 1,
   "id": "d26e0742",
   "metadata": {},
   "outputs": [],
   "source": [
    "# !pip install pandas \n",
    "# !pip install openpyxl \n",
    "# !pip install datetime \n",
    "# !pip install chardet\n",
    "# !pip install collections \n",
    "# !pip install matplotlib"
   ]
  },
  {
   "cell_type": "code",
   "execution_count": 2,
   "id": "48a5b01d",
   "metadata": {},
   "outputs": [],
   "source": [
    "import pandas as pd\n",
    "from openpyxl import Workbook\n",
    "from openpyxl.utils.dataframe import dataframe_to_rows\n",
    "from datetime import datetime\n",
    "import chardet\n",
    "from collections import Counter\n",
    "import matplotlib.pyplot as plt\n"
   ]
  },
  {
   "cell_type": "markdown",
   "id": "611f0cf0",
   "metadata": {},
   "source": [
    "## Загрузка данных"
   ]
  },
  {
   "cell_type": "code",
   "execution_count": 3,
   "id": "eddcc56d",
   "metadata": {},
   "outputs": [],
   "source": [
    "\n",
    "# определение кодировки файла\n",
    "with open('Транзакции.csv', 'rb') as f:\n",
    "    result = chardet.detect(f.read())\n",
    "encoding = result['encoding']\n",
    "\n",
    "# чтение файла с использованием определенной кодировки\n",
    "data = pd.read_csv('Транзакции.csv', encoding=encoding,sep='\\t')\n"
   ]
  },
  {
   "cell_type": "markdown",
   "id": "8f29e12f",
   "metadata": {},
   "source": [
    "## Предобработка "
   ]
  },
  {
   "cell_type": "code",
   "execution_count": 4,
   "id": "171de2b5",
   "metadata": {},
   "outputs": [],
   "source": [
    "data.columns = [i.lower().strip() for i in data.columns]"
   ]
  },
  {
   "cell_type": "code",
   "execution_count": 5,
   "id": "0a59d709",
   "metadata": {},
   "outputs": [],
   "source": [
    "data.rename(columns={'доставка':'delivery','плохой отзыв':'bad_feedback'},inplace=True)"
   ]
  },
  {
   "cell_type": "code",
   "execution_count": 6,
   "id": "53181161",
   "metadata": {},
   "outputs": [],
   "source": [
    "data=data[data['delivery']==0]"
   ]
  },
  {
   "cell_type": "code",
   "execution_count": 7,
   "id": "cacce165",
   "metadata": {},
   "outputs": [],
   "source": [
    "\n",
    "def to_dt(row):\n",
    "    # Преобразование строки времени в объект datetime\n",
    "    row = datetime.strptime(row, '%Y-%b-%d %H:%M:%S')\n",
    "\n",
    "    # Форматирование времени в требуемый формат\n",
    "    return row.strftime('%d-%m-%Y')"
   ]
  },
  {
   "cell_type": "code",
   "execution_count": 8,
   "id": "821c1b50",
   "metadata": {},
   "outputs": [],
   "source": [
    "data.loc[:,('date')] = data['date'].apply(to_dt)"
   ]
  },
  {
   "cell_type": "code",
   "execution_count": 9,
   "id": "fa6965bc",
   "metadata": {},
   "outputs": [],
   "source": [
    "data.set_index('date',inplace=True)"
   ]
  },
  {
   "cell_type": "code",
   "execution_count": 10,
   "id": "c3839ab7",
   "metadata": {
    "scrolled": true
   },
   "outputs": [],
   "source": [
    "data.index = pd.to_datetime(data.index)"
   ]
  },
  {
   "cell_type": "code",
   "execution_count": 11,
   "id": "a29bc53e",
   "metadata": {},
   "outputs": [],
   "source": [
    "data['month'] = data.index.month"
   ]
  },
  {
   "cell_type": "code",
   "execution_count": 12,
   "id": "bd92c656",
   "metadata": {},
   "outputs": [
    {
     "data": {
      "text/html": [
       "<div>\n",
       "<style scoped>\n",
       "    .dataframe tbody tr th:only-of-type {\n",
       "        vertical-align: middle;\n",
       "    }\n",
       "\n",
       "    .dataframe tbody tr th {\n",
       "        vertical-align: top;\n",
       "    }\n",
       "\n",
       "    .dataframe thead th {\n",
       "        text-align: right;\n",
       "    }\n",
       "</style>\n",
       "<table border=\"1\" class=\"dataframe\">\n",
       "  <thead>\n",
       "    <tr style=\"text-align: right;\">\n",
       "      <th></th>\n",
       "      <th>transactionid</th>\n",
       "      <th>count</th>\n",
       "      <th>cost</th>\n",
       "      <th>delivery</th>\n",
       "      <th>bad_feedback</th>\n",
       "      <th>paid</th>\n",
       "      <th>weight</th>\n",
       "      <th>promo</th>\n",
       "      <th>autoissue</th>\n",
       "      <th>month</th>\n",
       "    </tr>\n",
       "    <tr>\n",
       "      <th>date</th>\n",
       "      <th></th>\n",
       "      <th></th>\n",
       "      <th></th>\n",
       "      <th></th>\n",
       "      <th></th>\n",
       "      <th></th>\n",
       "      <th></th>\n",
       "      <th></th>\n",
       "      <th></th>\n",
       "      <th></th>\n",
       "    </tr>\n",
       "  </thead>\n",
       "  <tbody>\n",
       "    <tr>\n",
       "      <th>2020-08-21</th>\n",
       "      <td>1</td>\n",
       "      <td>67</td>\n",
       "      <td>6325</td>\n",
       "      <td>0</td>\n",
       "      <td>0</td>\n",
       "      <td>2605,0</td>\n",
       "      <td>5481</td>\n",
       "      <td>0</td>\n",
       "      <td>0</td>\n",
       "      <td>8</td>\n",
       "    </tr>\n",
       "    <tr>\n",
       "      <th>2019-10-15</th>\n",
       "      <td>3</td>\n",
       "      <td>59</td>\n",
       "      <td>9819</td>\n",
       "      <td>0</td>\n",
       "      <td>1</td>\n",
       "      <td>9995,0</td>\n",
       "      <td>5170</td>\n",
       "      <td>1</td>\n",
       "      <td>0</td>\n",
       "      <td>10</td>\n",
       "    </tr>\n",
       "  </tbody>\n",
       "</table>\n",
       "</div>"
      ],
      "text/plain": [
       "            transactionid  count  cost  delivery  bad_feedback    paid  \\\n",
       "date                                                                     \n",
       "2020-08-21              1     67  6325         0             0  2605,0   \n",
       "2019-10-15              3     59  9819         0             1  9995,0   \n",
       "\n",
       "            weight  promo  autoissue  month  \n",
       "date                                         \n",
       "2020-08-21    5481      0          0      8  \n",
       "2019-10-15    5170      1          0     10  "
      ]
     },
     "execution_count": 12,
     "metadata": {},
     "output_type": "execute_result"
    }
   ],
   "source": [
    "data.head(2)"
   ]
  },
  {
   "cell_type": "code",
   "execution_count": 13,
   "id": "96d94e76",
   "metadata": {},
   "outputs": [],
   "source": [
    "def coma_to_dot_float(row):\n",
    "    return float(row.replace(',','.'))"
   ]
  },
  {
   "cell_type": "code",
   "execution_count": 14,
   "id": "10cee4c1",
   "metadata": {
    "scrolled": true
   },
   "outputs": [],
   "source": [
    "data['paid'] = data['paid'].apply(coma_to_dot_float)"
   ]
  },
  {
   "cell_type": "code",
   "execution_count": 15,
   "id": "6a2fd48e",
   "metadata": {
    "scrolled": true
   },
   "outputs": [
    {
     "data": {
      "text/plain": [
       "date\n",
       "2020-08-21     2605.0\n",
       "2019-10-15     9995.0\n",
       "2020-08-23     6251.0\n",
       "2020-08-31     2047.0\n",
       "2020-08-29     6300.0\n",
       "               ...   \n",
       "2019-02-12     8613.0\n",
       "2020-08-26    10181.0\n",
       "2020-08-27     3873.0\n",
       "2020-08-30     5156.0\n",
       "2020-08-27     7200.0\n",
       "Name: paid, Length: 7128, dtype: float64"
      ]
     },
     "execution_count": 15,
     "metadata": {},
     "output_type": "execute_result"
    }
   ],
   "source": [
    "data['paid']"
   ]
  },
  {
   "cell_type": "code",
   "execution_count": 16,
   "id": "7e1861eb",
   "metadata": {},
   "outputs": [],
   "source": [
    "# функция для подсчетов типов\n",
    "def counter_of_type(data):\n",
    "    return Counter(data.dtypes)\n",
    "    "
   ]
  },
  {
   "cell_type": "code",
   "execution_count": 17,
   "id": "c359e64e",
   "metadata": {},
   "outputs": [],
   "source": [
    "# Собственная функция для ознакомления с данными\n",
    "def preview(data,n_row=4,\n",
    "             head=True,\n",
    "             info=True,\n",
    "             columns=True,\n",
    "             shape=True,\n",
    "             isna=True,\n",
    "             duplicated=True,\n",
    "             dtypes_=True,\n",
    "            describe_=True,\n",
    "           clear_duples=True,\n",
    "           lower_and_sep_col=True):\n",
    "    global dct_nan\n",
    "    global df_nan_columns\n",
    "    dct_nan = {}\n",
    "    if head:\n",
    "        print(f'First {n_row} row(s) in the head of data')\n",
    "        display(data.head(n_row))\n",
    "        print('-'*30)\n",
    "    if info:\n",
    "        print('Data Information:')\n",
    "        display(data.info())\n",
    "        print('-'*30)\n",
    "    if columns:\n",
    "        print('Data columns:')\n",
    "        display(data.columns)\n",
    "        if lower_and_sep_col:\n",
    "            COLUMN_REG = \"(\\w)([A-Z])\" \n",
    "            repl = r\"\\1_\\2\"\n",
    "            data.columns = list(map(lambda x: re.sub(COLUMN_REG,repl,x).lower(),data.columns))\n",
    "            print('Lowered and sepperated by words columns:')\n",
    "            print(data.columns)\n",
    "            print('-'*30)\n",
    "    if shape:\n",
    "        print('Data shape:')\n",
    "        display(data.shape)\n",
    "        print('-'*30)\n",
    "    if isna:\n",
    "        print('Data isna by row mean:')\n",
    "        display(data.isna().mean())\n",
    "        print()\n",
    "        tmp = data.isna().mean()\n",
    "        for i in range(len(tmp)):\n",
    "            if tmp[i] > 0:\n",
    "                dct_nan[tmp.index[i]] = tmp[i]\n",
    "        if tmp.sum() > 0:\n",
    "            df_nan_columns = pd.DataFrame.from_dict(dct_nan.items())\n",
    "            df_nan_columns.columns = ['column','rate_of_nan']\n",
    "            display(df_nan_columns)\n",
    "        print('-'*30)\n",
    "    if duplicated:\n",
    "        print('Data clear duplicates sum:')\n",
    "        duplets = data.duplicated().sum()\n",
    "        display(duplets)\n",
    "        if duplets >1 and clear_duples:\n",
    "            data.drop_duplicates(inplace=True)\n",
    "            print('Successful delete of {0} duplicates'.format(duplets))\n",
    "        elif duplets == 1 and clear_duples:\n",
    "            data.drop_duplicates(inplace=True)\n",
    "            print('Successful delete of {0} duplicate'.format(duplets))\n",
    "        print('-'*30)\n",
    "    if dtypes_:\n",
    "        print('Data dtypes:')\n",
    "        display(data.dtypes)\n",
    "        print('Number of each type:')\n",
    "        print(counter_of_type(data))\n",
    "        print('-'*30)\n",
    "    if describe_:\n",
    "        print('Major statistics for data:')\n",
    "        display(data.describe())\n",
    "        "
   ]
  },
  {
   "cell_type": "code",
   "execution_count": 18,
   "id": "cb0a30d0",
   "metadata": {},
   "outputs": [
    {
     "name": "stdout",
     "output_type": "stream",
     "text": [
      "First 4 row(s) in the head of data\n"
     ]
    },
    {
     "data": {
      "text/html": [
       "<div>\n",
       "<style scoped>\n",
       "    .dataframe tbody tr th:only-of-type {\n",
       "        vertical-align: middle;\n",
       "    }\n",
       "\n",
       "    .dataframe tbody tr th {\n",
       "        vertical-align: top;\n",
       "    }\n",
       "\n",
       "    .dataframe thead th {\n",
       "        text-align: right;\n",
       "    }\n",
       "</style>\n",
       "<table border=\"1\" class=\"dataframe\">\n",
       "  <thead>\n",
       "    <tr style=\"text-align: right;\">\n",
       "      <th></th>\n",
       "      <th>transactionid</th>\n",
       "      <th>count</th>\n",
       "      <th>cost</th>\n",
       "      <th>delivery</th>\n",
       "      <th>bad_feedback</th>\n",
       "      <th>paid</th>\n",
       "      <th>weight</th>\n",
       "      <th>promo</th>\n",
       "      <th>autoissue</th>\n",
       "      <th>month</th>\n",
       "    </tr>\n",
       "    <tr>\n",
       "      <th>date</th>\n",
       "      <th></th>\n",
       "      <th></th>\n",
       "      <th></th>\n",
       "      <th></th>\n",
       "      <th></th>\n",
       "      <th></th>\n",
       "      <th></th>\n",
       "      <th></th>\n",
       "      <th></th>\n",
       "      <th></th>\n",
       "    </tr>\n",
       "  </thead>\n",
       "  <tbody>\n",
       "    <tr>\n",
       "      <th>2020-08-21</th>\n",
       "      <td>1</td>\n",
       "      <td>67</td>\n",
       "      <td>6325</td>\n",
       "      <td>0</td>\n",
       "      <td>0</td>\n",
       "      <td>2605.0</td>\n",
       "      <td>5481</td>\n",
       "      <td>0</td>\n",
       "      <td>0</td>\n",
       "      <td>8</td>\n",
       "    </tr>\n",
       "    <tr>\n",
       "      <th>2019-10-15</th>\n",
       "      <td>3</td>\n",
       "      <td>59</td>\n",
       "      <td>9819</td>\n",
       "      <td>0</td>\n",
       "      <td>1</td>\n",
       "      <td>9995.0</td>\n",
       "      <td>5170</td>\n",
       "      <td>1</td>\n",
       "      <td>0</td>\n",
       "      <td>10</td>\n",
       "    </tr>\n",
       "    <tr>\n",
       "      <th>2020-08-23</th>\n",
       "      <td>8</td>\n",
       "      <td>45</td>\n",
       "      <td>6381</td>\n",
       "      <td>0</td>\n",
       "      <td>0</td>\n",
       "      <td>6251.0</td>\n",
       "      <td>9227</td>\n",
       "      <td>0</td>\n",
       "      <td>0</td>\n",
       "      <td>8</td>\n",
       "    </tr>\n",
       "    <tr>\n",
       "      <th>2020-08-31</th>\n",
       "      <td>9</td>\n",
       "      <td>31</td>\n",
       "      <td>8795</td>\n",
       "      <td>0</td>\n",
       "      <td>1</td>\n",
       "      <td>2047.0</td>\n",
       "      <td>6044</td>\n",
       "      <td>0</td>\n",
       "      <td>1</td>\n",
       "      <td>8</td>\n",
       "    </tr>\n",
       "  </tbody>\n",
       "</table>\n",
       "</div>"
      ],
      "text/plain": [
       "            transactionid  count  cost  delivery  bad_feedback    paid  \\\n",
       "date                                                                     \n",
       "2020-08-21              1     67  6325         0             0  2605.0   \n",
       "2019-10-15              3     59  9819         0             1  9995.0   \n",
       "2020-08-23              8     45  6381         0             0  6251.0   \n",
       "2020-08-31              9     31  8795         0             1  2047.0   \n",
       "\n",
       "            weight  promo  autoissue  month  \n",
       "date                                         \n",
       "2020-08-21    5481      0          0      8  \n",
       "2019-10-15    5170      1          0     10  \n",
       "2020-08-23    9227      0          0      8  \n",
       "2020-08-31    6044      0          1      8  "
      ]
     },
     "metadata": {},
     "output_type": "display_data"
    },
    {
     "name": "stdout",
     "output_type": "stream",
     "text": [
      "------------------------------\n",
      "Data Information:\n",
      "<class 'pandas.core.frame.DataFrame'>\n",
      "DatetimeIndex: 7128 entries, 2020-08-21 to 2020-08-27\n",
      "Data columns (total 10 columns):\n",
      " #   Column         Non-Null Count  Dtype  \n",
      "---  ------         --------------  -----  \n",
      " 0   transactionid  7128 non-null   int64  \n",
      " 1   count          7128 non-null   int64  \n",
      " 2   cost           7128 non-null   int64  \n",
      " 3   delivery       7128 non-null   int64  \n",
      " 4   bad_feedback   7128 non-null   int64  \n",
      " 5   paid           7128 non-null   float64\n",
      " 6   weight         7128 non-null   int64  \n",
      " 7   promo          7128 non-null   int64  \n",
      " 8   autoissue      7128 non-null   int64  \n",
      " 9   month          7128 non-null   int64  \n",
      "dtypes: float64(1), int64(9)\n",
      "memory usage: 612.6 KB\n"
     ]
    },
    {
     "data": {
      "text/plain": [
       "None"
      ]
     },
     "metadata": {},
     "output_type": "display_data"
    },
    {
     "name": "stdout",
     "output_type": "stream",
     "text": [
      "------------------------------\n",
      "Data columns:\n"
     ]
    },
    {
     "data": {
      "text/plain": [
       "Index(['transactionid', 'count', 'cost', 'delivery', 'bad_feedback', 'paid',\n",
       "       'weight', 'promo', 'autoissue', 'month'],\n",
       "      dtype='object')"
      ]
     },
     "metadata": {},
     "output_type": "display_data"
    },
    {
     "name": "stdout",
     "output_type": "stream",
     "text": [
      "Data shape:\n"
     ]
    },
    {
     "data": {
      "text/plain": [
       "(7128, 10)"
      ]
     },
     "metadata": {},
     "output_type": "display_data"
    },
    {
     "name": "stdout",
     "output_type": "stream",
     "text": [
      "------------------------------\n",
      "Data isna by row mean:\n"
     ]
    },
    {
     "data": {
      "text/plain": [
       "transactionid    0.0\n",
       "count            0.0\n",
       "cost             0.0\n",
       "delivery         0.0\n",
       "bad_feedback     0.0\n",
       "paid             0.0\n",
       "weight           0.0\n",
       "promo            0.0\n",
       "autoissue        0.0\n",
       "month            0.0\n",
       "dtype: float64"
      ]
     },
     "metadata": {},
     "output_type": "display_data"
    },
    {
     "name": "stdout",
     "output_type": "stream",
     "text": [
      "\n",
      "------------------------------\n",
      "Data clear duplicates sum:\n"
     ]
    },
    {
     "data": {
      "text/plain": [
       "0"
      ]
     },
     "metadata": {},
     "output_type": "display_data"
    },
    {
     "name": "stdout",
     "output_type": "stream",
     "text": [
      "------------------------------\n",
      "Data dtypes:\n"
     ]
    },
    {
     "data": {
      "text/plain": [
       "transactionid      int64\n",
       "count              int64\n",
       "cost               int64\n",
       "delivery           int64\n",
       "bad_feedback       int64\n",
       "paid             float64\n",
       "weight             int64\n",
       "promo              int64\n",
       "autoissue          int64\n",
       "month              int64\n",
       "dtype: object"
      ]
     },
     "metadata": {},
     "output_type": "display_data"
    },
    {
     "name": "stdout",
     "output_type": "stream",
     "text": [
      "Number of each type:\n",
      "Counter({dtype('int64'): 9, dtype('float64'): 1})\n",
      "------------------------------\n",
      "Major statistics for data:\n"
     ]
    },
    {
     "data": {
      "text/html": [
       "<div>\n",
       "<style scoped>\n",
       "    .dataframe tbody tr th:only-of-type {\n",
       "        vertical-align: middle;\n",
       "    }\n",
       "\n",
       "    .dataframe tbody tr th {\n",
       "        vertical-align: top;\n",
       "    }\n",
       "\n",
       "    .dataframe thead th {\n",
       "        text-align: right;\n",
       "    }\n",
       "</style>\n",
       "<table border=\"1\" class=\"dataframe\">\n",
       "  <thead>\n",
       "    <tr style=\"text-align: right;\">\n",
       "      <th></th>\n",
       "      <th>transactionid</th>\n",
       "      <th>count</th>\n",
       "      <th>cost</th>\n",
       "      <th>delivery</th>\n",
       "      <th>bad_feedback</th>\n",
       "      <th>paid</th>\n",
       "      <th>weight</th>\n",
       "      <th>promo</th>\n",
       "      <th>autoissue</th>\n",
       "      <th>month</th>\n",
       "    </tr>\n",
       "  </thead>\n",
       "  <tbody>\n",
       "    <tr>\n",
       "      <th>count</th>\n",
       "      <td>7128.000000</td>\n",
       "      <td>7128.000000</td>\n",
       "      <td>7128.000000</td>\n",
       "      <td>7128.0</td>\n",
       "      <td>7128.000000</td>\n",
       "      <td>7128.000000</td>\n",
       "      <td>7128.000000</td>\n",
       "      <td>7128.000000</td>\n",
       "      <td>7128.000000</td>\n",
       "      <td>7128.000000</td>\n",
       "    </tr>\n",
       "    <tr>\n",
       "      <th>mean</th>\n",
       "      <td>7173.531566</td>\n",
       "      <td>50.454125</td>\n",
       "      <td>6982.046156</td>\n",
       "      <td>0.0</td>\n",
       "      <td>0.499719</td>\n",
       "      <td>7514.345727</td>\n",
       "      <td>7028.022306</td>\n",
       "      <td>0.496493</td>\n",
       "      <td>0.490600</td>\n",
       "      <td>6.448232</td>\n",
       "    </tr>\n",
       "    <tr>\n",
       "      <th>std</th>\n",
       "      <td>4132.983733</td>\n",
       "      <td>28.568403</td>\n",
       "      <td>1717.573313</td>\n",
       "      <td>0.0</td>\n",
       "      <td>0.500035</td>\n",
       "      <td>4342.495972</td>\n",
       "      <td>1722.224032</td>\n",
       "      <td>0.500023</td>\n",
       "      <td>0.499947</td>\n",
       "      <td>3.214708</td>\n",
       "    </tr>\n",
       "    <tr>\n",
       "      <th>min</th>\n",
       "      <td>1.000000</td>\n",
       "      <td>1.000000</td>\n",
       "      <td>4000.000000</td>\n",
       "      <td>0.0</td>\n",
       "      <td>0.000000</td>\n",
       "      <td>0.000000</td>\n",
       "      <td>4000.000000</td>\n",
       "      <td>0.000000</td>\n",
       "      <td>0.000000</td>\n",
       "      <td>1.000000</td>\n",
       "    </tr>\n",
       "    <tr>\n",
       "      <th>25%</th>\n",
       "      <td>3625.750000</td>\n",
       "      <td>26.000000</td>\n",
       "      <td>5504.750000</td>\n",
       "      <td>0.0</td>\n",
       "      <td>0.000000</td>\n",
       "      <td>3696.000000</td>\n",
       "      <td>5558.750000</td>\n",
       "      <td>0.000000</td>\n",
       "      <td>0.000000</td>\n",
       "      <td>4.000000</td>\n",
       "    </tr>\n",
       "    <tr>\n",
       "      <th>50%</th>\n",
       "      <td>7164.000000</td>\n",
       "      <td>50.000000</td>\n",
       "      <td>6977.500000</td>\n",
       "      <td>0.0</td>\n",
       "      <td>0.000000</td>\n",
       "      <td>7507.000000</td>\n",
       "      <td>7053.500000</td>\n",
       "      <td>0.000000</td>\n",
       "      <td>0.000000</td>\n",
       "      <td>6.000000</td>\n",
       "    </tr>\n",
       "    <tr>\n",
       "      <th>75%</th>\n",
       "      <td>10718.250000</td>\n",
       "      <td>75.000000</td>\n",
       "      <td>8462.000000</td>\n",
       "      <td>0.0</td>\n",
       "      <td>1.000000</td>\n",
       "      <td>11286.250000</td>\n",
       "      <td>8511.000000</td>\n",
       "      <td>1.000000</td>\n",
       "      <td>1.000000</td>\n",
       "      <td>9.000000</td>\n",
       "    </tr>\n",
       "    <tr>\n",
       "      <th>max</th>\n",
       "      <td>14364.000000</td>\n",
       "      <td>100.000000</td>\n",
       "      <td>9998.000000</td>\n",
       "      <td>0.0</td>\n",
       "      <td>1.000000</td>\n",
       "      <td>15000.000000</td>\n",
       "      <td>9999.000000</td>\n",
       "      <td>1.000000</td>\n",
       "      <td>1.000000</td>\n",
       "      <td>12.000000</td>\n",
       "    </tr>\n",
       "  </tbody>\n",
       "</table>\n",
       "</div>"
      ],
      "text/plain": [
       "       transactionid        count         cost  delivery  bad_feedback  \\\n",
       "count    7128.000000  7128.000000  7128.000000    7128.0   7128.000000   \n",
       "mean     7173.531566    50.454125  6982.046156       0.0      0.499719   \n",
       "std      4132.983733    28.568403  1717.573313       0.0      0.500035   \n",
       "min         1.000000     1.000000  4000.000000       0.0      0.000000   \n",
       "25%      3625.750000    26.000000  5504.750000       0.0      0.000000   \n",
       "50%      7164.000000    50.000000  6977.500000       0.0      0.000000   \n",
       "75%     10718.250000    75.000000  8462.000000       0.0      1.000000   \n",
       "max     14364.000000   100.000000  9998.000000       0.0      1.000000   \n",
       "\n",
       "               paid       weight        promo    autoissue        month  \n",
       "count   7128.000000  7128.000000  7128.000000  7128.000000  7128.000000  \n",
       "mean    7514.345727  7028.022306     0.496493     0.490600     6.448232  \n",
       "std     4342.495972  1722.224032     0.500023     0.499947     3.214708  \n",
       "min        0.000000  4000.000000     0.000000     0.000000     1.000000  \n",
       "25%     3696.000000  5558.750000     0.000000     0.000000     4.000000  \n",
       "50%     7507.000000  7053.500000     0.000000     0.000000     6.000000  \n",
       "75%    11286.250000  8511.000000     1.000000     1.000000     9.000000  \n",
       "max    15000.000000  9999.000000     1.000000     1.000000    12.000000  "
      ]
     },
     "metadata": {},
     "output_type": "display_data"
    }
   ],
   "source": [
    "preview(data,clear_duples=False,lower_and_sep_col=False)"
   ]
  },
  {
   "cell_type": "markdown",
   "id": "4d77d888",
   "metadata": {},
   "source": [
    "## Финальная таблица"
   ]
  },
  {
   "cell_type": "code",
   "execution_count": 19,
   "id": "ad5799bf",
   "metadata": {},
   "outputs": [],
   "source": [
    "# создаем нужную таблицу\n",
    "final_data = (data.groupby(['month', 'promo']).agg(\n",
    "    transaction_count=('transactionid', 'count'),\n",
    "    bad_feedback_rate=('bad_feedback', lambda x: x.mean()*100),\n",
    "    sum_of_cost =('cost','sum'),\n",
    "    sum_of_paid =('paid','sum')\n",
    ").assign(profitability=lambda x: (x['sum_of_paid']-x['sum_of_cost'])/x['sum_of_cost']*100)\n",
    ".drop(columns=['sum_of_cost','sum_of_paid']))\n"
   ]
  },
  {
   "cell_type": "code",
   "execution_count": 20,
   "id": "4b493121",
   "metadata": {},
   "outputs": [],
   "source": [
    "for i in final_data.select_dtypes('float').columns:\n",
    "    final_data[i] = final_data[i].apply(lambda x: round(x,1) if isinstance(x,float) else x)"
   ]
  },
  {
   "cell_type": "markdown",
   "id": "84a9bdfd",
   "metadata": {},
   "source": [
    "## Графики"
   ]
  },
  {
   "cell_type": "code",
   "execution_count": 21,
   "id": "457c0e03",
   "metadata": {},
   "outputs": [],
   "source": [
    "# отфильтруем данные по значениям promo и построим графики\n",
    "data_promo_0 = final_data[final_data.index.get_level_values('promo') == 0]\n",
    "data_promo_1 = final_data[final_data.index.get_level_values('promo') == 1]\n"
   ]
  },
  {
   "cell_type": "code",
   "execution_count": 22,
   "id": "bd13251e",
   "metadata": {},
   "outputs": [],
   "source": [
    "def linear_graph(data_0,\n",
    "          data_1,\n",
    "          x,\n",
    "          y,\n",
    "          label_1,\n",
    "          label_2,\n",
    "          color_1,\n",
    "          color_2,\n",
    "          title,\n",
    "          xlabel,\n",
    "          ylabel,\n",
    "          alpha_1=1,\n",
    "          alpha_2=1):\n",
    "    print('Линейные графики')\n",
    "    fig, ax = plt.subplots(figsize=(10, 5))\n",
    "    # график для promo 0\n",
    "    ax.plot(data_0.index.get_level_values(x), \n",
    "            data_0[y], \n",
    "            label=label_1,\n",
    "           alpha=alpha_1,\n",
    "           color=color_1)\n",
    "\n",
    "    # график для promo 1\n",
    "    ax.plot(data_1.index.get_level_values(x), \n",
    "            data_1[y], \n",
    "            label=label_2,\n",
    "           alpha=alpha_2,\n",
    "           color=color_2)\n",
    "    ax.set_xlabel(xlabel)\n",
    "    ax.set_ylabel(ylabel)\n",
    "    ax.set_title(title)\n",
    "    ax.legend(loc='upper center', bbox_to_anchor=(0.5, -0.15), ncol=2)\n",
    "    plt.grid(color='LightBlue', alpha=0.7, linestyle=':', linewidth=2)\n",
    "\n",
    "    plt.show()\n"
   ]
  },
  {
   "cell_type": "code",
   "execution_count": 23,
   "id": "76f30102",
   "metadata": {},
   "outputs": [],
   "source": [
    "def bar_graph(data_0,\n",
    "          data_1,\n",
    "          x,\n",
    "          y,\n",
    "          label_1,\n",
    "          label_2,\n",
    "          color_1,\n",
    "          color_2,\n",
    "          title,\n",
    "          xlabel,\n",
    "          ylabel,\n",
    "          alpha_1=0.6,\n",
    "          alpha_2=0.4):\n",
    "    print('Столбчатые диаграммы')\n",
    "    fig, ax = plt.subplots(figsize=(10, 5))\n",
    "\n",
    "    # график для promo 0\n",
    "    ax.bar(data_0.index.get_level_values(x), \n",
    "            data_0[y], \n",
    "            label=label_1,\n",
    "           alpha=alpha_1,\n",
    "           color=color_1)\n",
    "\n",
    "    # график для promo 1\n",
    "    ax.bar(data_1.index.get_level_values(x), \n",
    "            data_1[y], \n",
    "            label=label_2,\n",
    "           alpha=alpha_2,\n",
    "           color=color_2)\n",
    "    ax.set_xlabel(xlabel)\n",
    "    ax.set_ylabel(ylabel)\n",
    "    ax.set_title(title)\n",
    "    ax.legend(loc='upper center', bbox_to_anchor=(0.5, -0.15), ncol=2)\n",
    "    plt.grid(color='LightBlue', alpha=0.7, linestyle=':', linewidth=2)\n",
    "\n",
    "    plt.show()"
   ]
  },
  {
   "cell_type": "code",
   "execution_count": 24,
   "id": "66994540",
   "metadata": {},
   "outputs": [
    {
     "name": "stdout",
     "output_type": "stream",
     "text": [
      "Линейные графики\n"
     ]
    },
    {
     "data": {
      "image/png": "[encoded data removed]",
      "text/plain": [
       "<Figure size 720x360 with 1 Axes>"
      ]
     },
     "metadata": {
      "needs_background": "light"
     },
     "output_type": "display_data"
    }
   ],
   "source": [
    "linear_graph(data_0=data_promo_0,\n",
    "data_1=data_promo_1,    \n",
    "x='month',\n",
    "y='bad_feedback_rate',\n",
    "label_1='Promo 0',\n",
    "label_2='Promo 1',\n",
    "color_1='#FFAE00',\n",
    "color_2='#133AAC',  \n",
    "title='Процент плохих отзывов по месяцам',\n",
    "xlabel='Месяц',\n",
    "ylabel='Процент плохих отзывов')\n"
   ]
  },
  {
   "cell_type": "code",
   "execution_count": 25,
   "id": "10af4dc7",
   "metadata": {
    "scrolled": true
   },
   "outputs": [
    {
     "name": "stdout",
     "output_type": "stream",
     "text": [
      "Столбчатые диаграммы\n"
     ]
    },
    {
     "data": {
      "image/png": "[encoded data removed]",
      "text/plain": [
       "<Figure size 720x360 with 1 Axes>"
      ]
     },
     "metadata": {
      "needs_background": "light"
     },
     "output_type": "display_data"
    }
   ],
   "source": [
    "bar_graph(data_0=data_promo_0,\n",
    "data_1=data_promo_1,    \n",
    "x='month',\n",
    "y='bad_feedback_rate',\n",
    "label_1='Promo 0',\n",
    "label_2='Promo 1',\n",
    "alpha_1=0.5,\n",
    "alpha_2=0.5,\n",
    "color_1='#A67100',\n",
    "color_2='#062170',  \n",
    "title='Процент плохих отзывов по месяцам',\n",
    "xlabel='Месяц',\n",
    "ylabel='Процент плохих отзывов')\n"
   ]
  },
  {
   "cell_type": "code",
   "execution_count": 26,
   "id": "4c679179",
   "metadata": {},
   "outputs": [
    {
     "name": "stdout",
     "output_type": "stream",
     "text": [
      "Линейные графики\n"
     ]
    },
    {
     "data": {
      "image/png": "[encoded data removed]",
      "text/plain": [
       "<Figure size 720x360 with 1 Axes>"
      ]
     },
     "metadata": {
      "needs_background": "light"
     },
     "output_type": "display_data"
    }
   ],
   "source": [
    "linear_graph(data_0=data_promo_0,\n",
    "data_1=data_promo_1,    \n",
    "x='month',\n",
    "y='transaction_count',\n",
    "label_1='Promo 0',\n",
    "label_2='Promo 1',\n",
    "alpha_1=0.5,\n",
    "alpha_2=0.5,\n",
    "color_1='#A67100',\n",
    "color_2='#062170',  \n",
    "title='Количество заказов по месяцам',\n",
    "xlabel='Месяц',\n",
    "ylabel='Количество заказов')\n"
   ]
  },
  {
   "cell_type": "code",
   "execution_count": 27,
   "id": "78f4b983",
   "metadata": {},
   "outputs": [
    {
     "name": "stdout",
     "output_type": "stream",
     "text": [
      "Столбчатые диаграммы\n"
     ]
    },
    {
     "data": {
      "image/png": "[encoded data removed]",
      "text/plain": [
       "<Figure size 720x360 with 1 Axes>"
      ]
     },
     "metadata": {
      "needs_background": "light"
     },
     "output_type": "display_data"
    }
   ],
   "source": [
    "bar_graph(data_0=data_promo_0,\n",
    "data_1=data_promo_1,    \n",
    "x='month',\n",
    "y='transaction_count',\n",
    "label_1='Promo 0',\n",
    "label_2='Promo 1',\n",
    "alpha_1=0.5,\n",
    "alpha_2=0.5,\n",
    "color_1='#A67100',\n",
    "color_2='#062170',  \n",
    "title='Количество заказов по месяцам',\n",
    "xlabel='Месяц',\n",
    "ylabel='Количество заказов')\n"
   ]
  },
  {
   "cell_type": "code",
   "execution_count": 28,
   "id": "9aeade7c",
   "metadata": {},
   "outputs": [
    {
     "name": "stdout",
     "output_type": "stream",
     "text": [
      "Линейные графики\n"
     ]
    },
    {
     "data": {
      "image/png": "[encoded data removed]",
      "text/plain": [
       "<Figure size 720x360 with 1 Axes>"
      ]
     },
     "metadata": {
      "needs_background": "light"
     },
     "output_type": "display_data"
    }
   ],
   "source": [
    "linear_graph(data_0=data_promo_0,\n",
    "data_1=data_promo_1,    \n",
    "x='month',\n",
    "y='profitability',\n",
    "label_1='Promo 0',\n",
    "label_2='Promo 1',\n",
    "alpha_1=0.5,\n",
    "alpha_2=0.5,\n",
    "color_1='#A67100',\n",
    "color_2='#062170',  \n",
    "title='Процент прибыльности по месяцам',\n",
    "xlabel='Месяц',\n",
    "ylabel='Процент прибыльности')\n"
   ]
  },
  {
   "cell_type": "code",
   "execution_count": 29,
   "id": "00ebd51c",
   "metadata": {},
   "outputs": [
    {
     "data": {
      "text/html": [
       "<div>\n",
       "<style scoped>\n",
       "    .dataframe tbody tr th:only-of-type {\n",
       "        vertical-align: middle;\n",
       "    }\n",
       "\n",
       "    .dataframe tbody tr th {\n",
       "        vertical-align: top;\n",
       "    }\n",
       "\n",
       "    .dataframe thead th {\n",
       "        text-align: right;\n",
       "    }\n",
       "</style>\n",
       "<table border=\"1\" class=\"dataframe\">\n",
       "  <thead>\n",
       "    <tr style=\"text-align: right;\">\n",
       "      <th></th>\n",
       "      <th></th>\n",
       "      <th>transaction_count</th>\n",
       "      <th>bad_feedback_rate</th>\n",
       "      <th>profitability</th>\n",
       "    </tr>\n",
       "    <tr>\n",
       "      <th>month</th>\n",
       "      <th>promo</th>\n",
       "      <th></th>\n",
       "      <th></th>\n",
       "      <th></th>\n",
       "    </tr>\n",
       "  </thead>\n",
       "  <tbody>\n",
       "    <tr>\n",
       "      <th rowspan=\"2\" valign=\"top\">1</th>\n",
       "      <th>0</th>\n",
       "      <td>244</td>\n",
       "      <td>50.8</td>\n",
       "      <td>8.2</td>\n",
       "    </tr>\n",
       "    <tr>\n",
       "      <th>1</th>\n",
       "      <td>231</td>\n",
       "      <td>47.6</td>\n",
       "      <td>10.5</td>\n",
       "    </tr>\n",
       "    <tr>\n",
       "      <th rowspan=\"2\" valign=\"top\">2</th>\n",
       "      <th>0</th>\n",
       "      <td>245</td>\n",
       "      <td>52.7</td>\n",
       "      <td>10.0</td>\n",
       "    </tr>\n",
       "    <tr>\n",
       "      <th>1</th>\n",
       "      <td>223</td>\n",
       "      <td>51.6</td>\n",
       "      <td>-0.6</td>\n",
       "    </tr>\n",
       "    <tr>\n",
       "      <th rowspan=\"2\" valign=\"top\">3</th>\n",
       "      <th>0</th>\n",
       "      <td>326</td>\n",
       "      <td>51.8</td>\n",
       "      <td>10.9</td>\n",
       "    </tr>\n",
       "    <tr>\n",
       "      <th>1</th>\n",
       "      <td>312</td>\n",
       "      <td>52.2</td>\n",
       "      <td>4.1</td>\n",
       "    </tr>\n",
       "    <tr>\n",
       "      <th rowspan=\"2\" valign=\"top\">4</th>\n",
       "      <th>0</th>\n",
       "      <td>316</td>\n",
       "      <td>51.6</td>\n",
       "      <td>4.0</td>\n",
       "    </tr>\n",
       "    <tr>\n",
       "      <th>1</th>\n",
       "      <td>289</td>\n",
       "      <td>47.1</td>\n",
       "      <td>6.4</td>\n",
       "    </tr>\n",
       "    <tr>\n",
       "      <th rowspan=\"2\" valign=\"top\">5</th>\n",
       "      <th>0</th>\n",
       "      <td>385</td>\n",
       "      <td>51.9</td>\n",
       "      <td>2.7</td>\n",
       "    </tr>\n",
       "    <tr>\n",
       "      <th>1</th>\n",
       "      <td>371</td>\n",
       "      <td>47.2</td>\n",
       "      <td>7.2</td>\n",
       "    </tr>\n",
       "    <tr>\n",
       "      <th rowspan=\"2\" valign=\"top\">6</th>\n",
       "      <th>0</th>\n",
       "      <td>331</td>\n",
       "      <td>45.9</td>\n",
       "      <td>11.7</td>\n",
       "    </tr>\n",
       "    <tr>\n",
       "      <th>1</th>\n",
       "      <td>341</td>\n",
       "      <td>46.6</td>\n",
       "      <td>10.4</td>\n",
       "    </tr>\n",
       "    <tr>\n",
       "      <th rowspan=\"2\" valign=\"top\">7</th>\n",
       "      <th>0</th>\n",
       "      <td>345</td>\n",
       "      <td>49.6</td>\n",
       "      <td>9.4</td>\n",
       "    </tr>\n",
       "    <tr>\n",
       "      <th>1</th>\n",
       "      <td>372</td>\n",
       "      <td>55.1</td>\n",
       "      <td>5.0</td>\n",
       "    </tr>\n",
       "    <tr>\n",
       "      <th rowspan=\"2\" valign=\"top\">8</th>\n",
       "      <th>0</th>\n",
       "      <td>388</td>\n",
       "      <td>45.4</td>\n",
       "      <td>8.6</td>\n",
       "    </tr>\n",
       "    <tr>\n",
       "      <th>1</th>\n",
       "      <td>385</td>\n",
       "      <td>55.1</td>\n",
       "      <td>6.0</td>\n",
       "    </tr>\n",
       "    <tr>\n",
       "      <th rowspan=\"2\" valign=\"top\">9</th>\n",
       "      <th>0</th>\n",
       "      <td>259</td>\n",
       "      <td>46.7</td>\n",
       "      <td>7.7</td>\n",
       "    </tr>\n",
       "    <tr>\n",
       "      <th>1</th>\n",
       "      <td>242</td>\n",
       "      <td>45.9</td>\n",
       "      <td>13.6</td>\n",
       "    </tr>\n",
       "    <tr>\n",
       "      <th rowspan=\"2\" valign=\"top\">10</th>\n",
       "      <th>0</th>\n",
       "      <td>240</td>\n",
       "      <td>50.0</td>\n",
       "      <td>7.2</td>\n",
       "    </tr>\n",
       "    <tr>\n",
       "      <th>1</th>\n",
       "      <td>290</td>\n",
       "      <td>50.7</td>\n",
       "      <td>7.0</td>\n",
       "    </tr>\n",
       "    <tr>\n",
       "      <th rowspan=\"2\" valign=\"top\">11</th>\n",
       "      <th>0</th>\n",
       "      <td>261</td>\n",
       "      <td>49.8</td>\n",
       "      <td>11.8</td>\n",
       "    </tr>\n",
       "    <tr>\n",
       "      <th>1</th>\n",
       "      <td>261</td>\n",
       "      <td>48.3</td>\n",
       "      <td>12.3</td>\n",
       "    </tr>\n",
       "    <tr>\n",
       "      <th rowspan=\"2\" valign=\"top\">12</th>\n",
       "      <th>0</th>\n",
       "      <td>249</td>\n",
       "      <td>50.2</td>\n",
       "      <td>3.9</td>\n",
       "    </tr>\n",
       "    <tr>\n",
       "      <th>1</th>\n",
       "      <td>222</td>\n",
       "      <td>55.4</td>\n",
       "      <td>6.6</td>\n",
       "    </tr>\n",
       "  </tbody>\n",
       "</table>\n",
       "</div>"
      ],
      "text/plain": [
       "             transaction_count  bad_feedback_rate  profitability\n",
       "month promo                                                     \n",
       "1     0                    244               50.8            8.2\n",
       "      1                    231               47.6           10.5\n",
       "2     0                    245               52.7           10.0\n",
       "      1                    223               51.6           -0.6\n",
       "3     0                    326               51.8           10.9\n",
       "      1                    312               52.2            4.1\n",
       "4     0                    316               51.6            4.0\n",
       "      1                    289               47.1            6.4\n",
       "5     0                    385               51.9            2.7\n",
       "      1                    371               47.2            7.2\n",
       "6     0                    331               45.9           11.7\n",
       "      1                    341               46.6           10.4\n",
       "7     0                    345               49.6            9.4\n",
       "      1                    372               55.1            5.0\n",
       "8     0                    388               45.4            8.6\n",
       "      1                    385               55.1            6.0\n",
       "9     0                    259               46.7            7.7\n",
       "      1                    242               45.9           13.6\n",
       "10    0                    240               50.0            7.2\n",
       "      1                    290               50.7            7.0\n",
       "11    0                    261               49.8           11.8\n",
       "      1                    261               48.3           12.3\n",
       "12    0                    249               50.2            3.9\n",
       "      1                    222               55.4            6.6"
      ]
     },
     "execution_count": 29,
     "metadata": {},
     "output_type": "execute_result"
    }
   ],
   "source": [
    "final_data"
   ]
  },
  {
   "cell_type": "code",
   "execution_count": 30,
   "id": "2100813c",
   "metadata": {},
   "outputs": [
    {
     "name": "stdout",
     "output_type": "stream",
     "text": [
      "Столбчатые диаграммы\n"
     ]
    },
    {
     "data": {
      "image/png": "[encoded data removed]",
      "text/plain": [
       "<Figure size 720x360 with 1 Axes>"
      ]
     },
     "metadata": {
      "needs_background": "light"
     },
     "output_type": "display_data"
    }
   ],
   "source": [
    "bar_graph(data_0=data_promo_0,\n",
    "data_1=data_promo_1,    \n",
    "x='month',\n",
    "y='profitability',\n",
    "label_1='Promo 0',\n",
    "label_2='Promo 1',\n",
    "alpha_1=0.5,\n",
    "alpha_2=0.5,\n",
    "color_1='#A67100',\n",
    "color_2='#062170',  \n",
    "title='Процент прибыльности по месяцам',\n",
    "xlabel='Месяц',\n",
    "ylabel='Процент прибыльности')\n"
   ]
  },
  {
   "cell_type": "code",
   "execution_count": 31,
   "id": "a3463ab3",
   "metadata": {},
   "outputs": [],
   "source": [
    "# создание новой эксель-таблицы и запись в нее данных\n",
    "wb = Workbook()\n",
    "ws = wb.active\n",
    "for r in dataframe_to_rows(final_data, index=True, header=True):\n",
    "    ws.append(r)\n",
    "wb.save('final_shop.xlsx')"
   ]
  }
 ],
 "metadata": {
  "kernelspec": {
   "display_name": "Python 3 (ipykernel)",
   "language": "python",
   "name": "python3"
  },
  "language_info": {
   "codemirror_mode": {
    "name": "ipython",
    "version": 3
   },
   "file_extension": ".py",
   "mimetype": "text/x-python",
   "name": "python",
   "nbconvert_exporter": "python",
   "pygments_lexer": "ipython3",
   "version": "3.9.7"
  },
  "toc": {
   "base_numbering": 1,
   "nav_menu": {},
   "number_sections": true,
   "sideBar": true,
   "skip_h1_title": false,
   "title_cell": "Table of Contents",
   "title_sidebar": "Contents",
   "toc_cell": false,
   "toc_position": {},
   "toc_section_display": true,
   "toc_window_display": false
  }
 },
 "nbformat": 4,
 "nbformat_minor": 5
}
