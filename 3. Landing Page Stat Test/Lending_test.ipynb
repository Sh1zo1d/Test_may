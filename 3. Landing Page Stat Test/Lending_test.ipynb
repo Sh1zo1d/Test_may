{
 "cells": [
  {
   "cell_type": "markdown",
   "id": "dffdbf61",
   "metadata": {},
   "source": [
    "Отдел маркетинга разработал новый дизайн посадочной страницы клиента (lending). Пользователи сайта оценили новый дизайн. Результаты итоговой оценки зафиксированы в количественной переменной Общая оценка. Средняя оценка старого дизайна по результатам прошлого исследования составляет 30 баллов.\n",
    "\n",
    "Значимо ли улучшился дизайн посадочной страницы сайта, и есть ли влияние возраста на оценку нового дизайна?\n",
    "\n",
    "Необходимо ответить на вопрос, используя статистические методы, а также дать рекомендации отделу маркетинга по результатам проведенного анализа\n"
   ]
  },
  {
   "cell_type": "markdown",
   "id": "ae616001",
   "metadata": {},
   "source": [
    "## Загрузка нужных библиотек"
   ]
  },
  {
   "cell_type": "code",
   "execution_count": 1,
   "id": "fd6ea74b",
   "metadata": {},
   "outputs": [],
   "source": [
    "# !pip install pandas\n",
    "# !pip install numpy\n",
    "# !pip install matplotlib\n",
    "# !pip install scipy\n",
    "# !pip install seaborn"
   ]
  },
  {
   "cell_type": "code",
   "execution_count": 2,
   "id": "4f1b3085",
   "metadata": {},
   "outputs": [],
   "source": [
    "import pandas as pd\n",
    "import numpy as np \n",
    "import matplotlib.pyplot as plt\n",
    "import scipy.stats as stats\n",
    "from scipy.stats import ttest_ind\n",
    "from scipy.stats import f_oneway\n",
    "import seaborn as sns"
   ]
  },
  {
   "cell_type": "markdown",
   "id": "d817f571",
   "metadata": {},
   "source": [
    "## Загрузка данных"
   ]
  },
  {
   "cell_type": "code",
   "execution_count": 3,
   "id": "046680dd",
   "metadata": {},
   "outputs": [],
   "source": [
    "data = pd.read_excel('данные.xlsx')"
   ]
  },
  {
   "cell_type": "code",
   "execution_count": 4,
   "id": "11636d94",
   "metadata": {},
   "outputs": [],
   "source": [
    "data.columns = ['age_group', 'score']"
   ]
  },
  {
   "cell_type": "code",
   "execution_count": 5,
   "id": "babcdef8",
   "metadata": {
    "scrolled": true
   },
   "outputs": [
    {
     "data": {
      "text/plain": [
       "65 и страше    17\n",
       "До 25          13\n",
       "35-44          12\n",
       "25-34          10\n",
       "45-54          10\n",
       "55-64           6\n",
       "Name: age_group, dtype: int64"
      ]
     },
     "execution_count": 5,
     "metadata": {},
     "output_type": "execute_result"
    }
   ],
   "source": [
    "data['age_group'].value_counts()"
   ]
  },
  {
   "cell_type": "code",
   "execution_count": 6,
   "id": "99149a81",
   "metadata": {},
   "outputs": [],
   "source": [
    "mean_data = data.groupby('age_group')['score'].mean().reset_index()"
   ]
  },
  {
   "cell_type": "code",
   "execution_count": 7,
   "id": "7ca1e867",
   "metadata": {
    "scrolled": false
   },
   "outputs": [],
   "source": [
    "mean_data = mean_data.sort_values(by='score')"
   ]
  },
  {
   "cell_type": "code",
   "execution_count": 8,
   "id": "17994dc6",
   "metadata": {
    "scrolled": true
   },
   "outputs": [
    {
     "data": {
      "text/html": [
       "<div>\n",
       "<style scoped>\n",
       "    .dataframe tbody tr th:only-of-type {\n",
       "        vertical-align: middle;\n",
       "    }\n",
       "\n",
       "    .dataframe tbody tr th {\n",
       "        vertical-align: top;\n",
       "    }\n",
       "\n",
       "    .dataframe thead th {\n",
       "        text-align: right;\n",
       "    }\n",
       "</style>\n",
       "<table border=\"1\" class=\"dataframe\">\n",
       "  <thead>\n",
       "    <tr style=\"text-align: right;\">\n",
       "      <th></th>\n",
       "      <th>age_group</th>\n",
       "      <th>score</th>\n",
       "    </tr>\n",
       "  </thead>\n",
       "  <tbody>\n",
       "    <tr>\n",
       "      <th>4</th>\n",
       "      <td>65 и страше</td>\n",
       "      <td>28.002791</td>\n",
       "    </tr>\n",
       "    <tr>\n",
       "      <th>3</th>\n",
       "      <td>55-64</td>\n",
       "      <td>28.447336</td>\n",
       "    </tr>\n",
       "    <tr>\n",
       "      <th>5</th>\n",
       "      <td>До 25</td>\n",
       "      <td>28.749228</td>\n",
       "    </tr>\n",
       "    <tr>\n",
       "      <th>0</th>\n",
       "      <td>25-34</td>\n",
       "      <td>31.678010</td>\n",
       "    </tr>\n",
       "    <tr>\n",
       "      <th>1</th>\n",
       "      <td>35-44</td>\n",
       "      <td>37.018058</td>\n",
       "    </tr>\n",
       "    <tr>\n",
       "      <th>2</th>\n",
       "      <td>45-54</td>\n",
       "      <td>39.118369</td>\n",
       "    </tr>\n",
       "  </tbody>\n",
       "</table>\n",
       "</div>"
      ],
      "text/plain": [
       "     age_group      score\n",
       "4  65 и страше  28.002791\n",
       "3        55-64  28.447336\n",
       "5        До 25  28.749228\n",
       "0        25-34  31.678010\n",
       "1        35-44  37.018058\n",
       "2        45-54  39.118369"
      ]
     },
     "execution_count": 8,
     "metadata": {},
     "output_type": "execute_result"
    }
   ],
   "source": [
    "mean_data"
   ]
  },
  {
   "cell_type": "markdown",
   "id": "aab9314e",
   "metadata": {},
   "source": [
    "## Графики"
   ]
  },
  {
   "cell_type": "code",
   "execution_count": 9,
   "id": "449c704f",
   "metadata": {},
   "outputs": [
    {
     "data": {
      "image/png": "[encoded data removed]",
      "text/plain": [
       "<Figure size 432x288 with 1 Axes>"
      ]
     },
     "metadata": {
      "needs_background": "light"
     },
     "output_type": "display_data"
    }
   ],
   "source": [
    "\n",
    "# Построение графика\n",
    "fig, ax = plt.subplots()\n",
    "ax.bar(mean_data['age_group'], mean_data['score'],alpha=0.7)\n",
    "\n",
    "# Настройка осей и заголовка\n",
    "ax.set_xlabel('Возрастная группа')\n",
    "ax.set_ylabel('Средняя оценка')\n",
    "ax.set_title('Оценки нового дизайна по возрастным группам')\n",
    "plt.grid(color='DarkBlue', alpha=0.5, linestyle=':', linewidth=2)\n",
    "\n",
    "# Отображение графика\n",
    "plt.show()\n"
   ]
  },
  {
   "cell_type": "markdown",
   "id": "0bd60060",
   "metadata": {},
   "source": [
    "**Вывод:**\n",
    "Возрастных группы, у которых средняя оценка больше 30:\n",
    "\n",
    "1) 45-54\t**39.118369**\n",
    "\n",
    "2) 35-44\t**37.018058**\n",
    "\n",
    "3) 25-34\t**31.678010**\n",
    "\n",
    "Возрастные группы, у которых средняя оценка меньше 30:\n",
    "\n",
    "1)\t65 и страше\t**28.002791**\n",
    "\n",
    "2)\t55-64\t**28.447336**\n",
    "\n",
    "3)\tДо 25\t**28.749228**\n"
   ]
  },
  {
   "cell_type": "code",
   "execution_count": 10,
   "id": "5c83b358",
   "metadata": {
    "scrolled": true
   },
   "outputs": [
    {
     "data": {
      "image/png": "[encoded data removed]",
      "text/plain": [
       "<Figure size 432x288 with 1 Axes>"
      ]
     },
     "metadata": {
      "needs_background": "light"
     },
     "output_type": "display_data"
    }
   ],
   "source": [
    "\n",
    "sns.boxplot(x=\"age_group\", y=\"score\", data=data, palette=\"Set3\")\n",
    "sns.swarmplot(x=\"age_group\", y=\"score\", data=data, color=\".25\")\n",
    "plt.title('Ящики с усами для каждой возрастной группы')\n",
    "plt.xlabel('Возрастная группа')\n",
    "plt.ylabel('Оценка')\n",
    "plt.grid(color='Brown', alpha=0.5, linestyle=':', linewidth=2)\n",
    "\n",
    "plt.show()"
   ]
  },
  {
   "cell_type": "code",
   "execution_count": 11,
   "id": "9bf98130",
   "metadata": {},
   "outputs": [],
   "source": [
    "def q1_q3_value(data, groups, value_column, low, high):\n",
    "    for cat in groups:\n",
    "        q1 = data[data['age_group'] == cat][value_column].quantile(low)\n",
    "        values_below_q1 = data[(data['age_group'] == cat) & (data[value_column] < q1)][value_column]\n",
    "        print(f\"Для группы {cat} найдем значения меньше {low} доли данных:\\n{values_below_q1.to_list()}\")\n",
    "    print('-'*30)\n",
    "        \n",
    "    for cat in groups:\n",
    "        q3 = data[data['age_group'] == cat][value_column].quantile(high)\n",
    "        values_above_q3 = data[(data['age_group'] == cat) & (data[value_column] > q3)][value_column]\n",
    "        print(f\"Для группы {cat} найдем значения больше {high} доли данных:\\n{values_above_q3.to_list()}\")\n",
    "    print('-'*30)\n"
   ]
  },
  {
   "cell_type": "markdown",
   "id": "03b8cb38",
   "metadata": {},
   "source": [
    "**Вывод:**\n",
    "\n",
    "В некоторых группах наблюдаются достаточно низкие и высокие значения:\n"
   ]
  },
  {
   "cell_type": "code",
   "execution_count": 12,
   "id": "0a82fa36",
   "metadata": {},
   "outputs": [
    {
     "name": "stdout",
     "output_type": "stream",
     "text": [
      "Для группы 65 и страше найдем значения меньше 0.05 доли данных:\n",
      "[15.73447341312344]\n",
      "Для группы 55-64 найдем значения меньше 0.05 доли данных:\n",
      "[17.66967736054725]\n",
      "Для группы До 25 найдем значения меньше 0.05 доли данных:\n",
      "[21.64274236000652]\n",
      "Для группы 25-34 найдем значения меньше 0.05 доли данных:\n",
      "[22.76450651063485]\n",
      "Для группы 45-54 найдем значения меньше 0.05 доли данных:\n",
      "[26.051029338859273]\n",
      "Для группы 35-44 найдем значения меньше 0.05 доли данных:\n",
      "[21.82348818729791]\n",
      "------------------------------\n",
      "Для группы 65 и страше найдем значения больше 0.95 доли данных:\n",
      "[38.454802921507216]\n",
      "Для группы 55-64 найдем значения больше 0.95 доли данных:\n",
      "[32.608214475353726]\n",
      "Для группы До 25 найдем значения больше 0.95 доли данных:\n",
      "[40.46948789993558]\n",
      "Для группы 25-34 найдем значения больше 0.95 доли данных:\n",
      "[38.68263722683812]\n",
      "Для группы 45-54 найдем значения больше 0.95 доли данных:\n",
      "[47.50146983758766]\n",
      "Для группы 35-44 найдем значения больше 0.95 доли данных:\n",
      "[45.95319081965232]\n",
      "------------------------------\n"
     ]
    }
   ],
   "source": [
    "q1_q3_value(data,data['age_group'].unique(),'score',0.05,0.95)"
   ]
  },
  {
   "cell_type": "markdown",
   "id": "c19a029d",
   "metadata": {},
   "source": [
    "## Корреляционный анализ"
   ]
  },
  {
   "cell_type": "code",
   "execution_count": 13,
   "id": "62260225",
   "metadata": {},
   "outputs": [],
   "source": [
    "# функция для корр. анализа с коэф. спирмена\n",
    "def spearman_corr(df,column_cat,column_num):\n",
    "    corr, p_value = stats.spearmanr(df[column_cat],df[column_num])\n",
    "    print(f\"Коэффициент корреляции Спирмена: {corr:.3f}\")\n",
    "    print(f\"P-value: {p_value:.3f}\")\n",
    "    if p_value < 0.05: \n",
    "        print('Корреляция стат. значима, поскольку p-значение меньше критического')"
   ]
  },
  {
   "cell_type": "code",
   "execution_count": 14,
   "id": "2cf91dc6",
   "metadata": {},
   "outputs": [
    {
     "name": "stdout",
     "output_type": "stream",
     "text": [
      "Коэффициент корреляции Спирмена: -0.372\n",
      "P-value: 0.002\n",
      "Корреляция стат. значима, поскольку p-значение меньше критического\n"
     ]
    }
   ],
   "source": [
    "spearman_corr(data,\"age_group\",\"score\")"
   ]
  },
  {
   "cell_type": "markdown",
   "id": "8c48695e",
   "metadata": {},
   "source": [
    "**Вывод:**\n",
    "\n",
    "С увеличением возраста оценка имеет тендецию снижаться."
   ]
  },
  {
   "cell_type": "markdown",
   "id": "bb9ae1f2",
   "metadata": {},
   "source": [
    "## Проверка данных на нормальность (Тест Шапиро-Уилка)"
   ]
  },
  {
   "cell_type": "code",
   "execution_count": 15,
   "id": "348766ed",
   "metadata": {
    "scrolled": true
   },
   "outputs": [
    {
     "data": {
      "image/png": "[encoded data removed]",
      "text/plain": [
       "<Figure size 432x288 with 1 Axes>"
      ]
     },
     "metadata": {
      "needs_background": "light"
     },
     "output_type": "display_data"
    },
    {
     "name": "stdout",
     "output_type": "stream",
     "text": [
      "Тест шапиро-уилка результаты:\n",
      "Значение теста: 0.9740\n",
      "P-value: 0.1666\n",
      "Распределение вероятнее всего нормальное\n"
     ]
    }
   ],
   "source": [
    "\n",
    "# плучаем данные для гистограммы\n",
    "x = data['score']\n",
    "bins = 6\n",
    "# строим гистограмму\n",
    "plt.hist(x, bins=6, alpha=0.5, edgecolor='black', color='blue')\n",
    "plt.xlabel('Оценка')\n",
    "plt.ylabel('Частота')\n",
    "plt.title('Распределение оценок')\n",
    "plt.grid(color='Purple', alpha=0.5, linestyle=':', linewidth=2)\n",
    "plt.show()\n",
    "# проверяем на нормальность с помощью теста Шапиро-Уилка\n",
    "stat, p = stats.shapiro(x)\n",
    "print(f\"Тест шапиро-уилка результаты:\\nЗначение теста: {stat:.4f}\\nP-value: {p:.4f}\")\n",
    "if p > 0.05:\n",
    "    print(\"Распределение вероятнее всего нормальное\")\n",
    "else:\n",
    "    print(\"Распределение вероятнее всего не нормальное\")\n"
   ]
  },
  {
   "cell_type": "code",
   "execution_count": 16,
   "id": "cfcded79",
   "metadata": {},
   "outputs": [
    {
     "data": {
      "image/png": "[encoded data removed]",
      "text/plain": [
       "<Figure size 432x288 with 1 Axes>"
      ]
     },
     "metadata": {
      "needs_background": "light"
     },
     "output_type": "display_data"
    }
   ],
   "source": [
    "\n",
    "sns.kdeplot(data['score'],shade=True)\n",
    "plt.xlabel('Оценка')\n",
    "plt.ylabel('Частота')\n",
    "plt.title('Распределение оценок')\n",
    "plt.grid(color='LightBlue', alpha=0.7, linestyle=':', linewidth=2)\n",
    "plt.show()"
   ]
  },
  {
   "cell_type": "markdown",
   "id": "e54dcdb3",
   "metadata": {},
   "source": [
    "## Проверка значимости средних значений двух групп с помощью Т-теста двух независимых групп"
   ]
  },
  {
   "cell_type": "code",
   "execution_count": 17,
   "id": "aeb7e373",
   "metadata": {
    "scrolled": true
   },
   "outputs": [
    {
     "name": "stdout",
     "output_type": "stream",
     "text": [
      "t-статистика: -2.198\n",
      "Средние оценки между группами статистически различаются\n",
      "p-value: 0.030\n"
     ]
    }
   ],
   "source": [
    "mu1 = 30\n",
    "\n",
    "data1 = np.repeat(mu1, len(data))\n",
    "data2 = data['score']\n",
    "t_stat, p_value = ttest_ind(data1, data2)\n",
    "\n",
    "print(f\"t-статистика: {t_stat:.3f}\")\n",
    "\n",
    "if p_value < 0.05:\n",
    "    print('Средние оценки между группами статистически различаются')\n",
    "    print(f\"p-value: {p_value:.3f}\")\n",
    "\n",
    "else:\n",
    "    print('Средние оценки между группами не различаются')\n",
    "    print(f\"p-value: {p_value:.3f}\")\n"
   ]
  },
  {
   "cell_type": "markdown",
   "id": "9cb55702",
   "metadata": {},
   "source": [
    "## Однофакторный дисперсионный анализ возрастных групп"
   ]
  },
  {
   "cell_type": "code",
   "execution_count": 18,
   "id": "ae42c6b5",
   "metadata": {
    "scrolled": false
   },
   "outputs": [
    {
     "name": "stdout",
     "output_type": "stream",
     "text": [
      "Значение F-статистики: 6.993\n",
      "P-value: 0.000\n",
      "Средние оценки между возрастными группами статистически различаются\n"
     ]
    }
   ],
   "source": [
    "\n",
    "# Разделение данных на группы\n",
    "group1 = data[data[\"age_group\"] == \"До 25\"][\"score\"]\n",
    "group2 = data[data[\"age_group\"] == \"25-34\"][\"score\"]\n",
    "group3 = data[data[\"age_group\"] == \"35-44\"][\"score\"]\n",
    "group4 = data[data[\"age_group\"] == \"45-54\"][\"score\"]\n",
    "group5 = data[data[\"age_group\"] == \"55-64\"][\"score\"]\n",
    "group6 = data[data[\"age_group\"] == \"65 и страше\"][\"score\"]\n",
    "\n",
    "# Проведение однофакторного дисперсионного анализа\n",
    "f_value, p_value = f_oneway(group1, group2, group3, group4, group5, group6)\n",
    "\n",
    "# Вывод результатов\n",
    "print(f\"Значение F-статистики: {f_value:.3f}\")\n",
    "print(f\"P-value: {p_value:.3f}\")\n",
    "if p_value < 0.05:\n",
    "    print('Средние оценки между возрастными группами статистически различаются')\n",
    "else:\n",
    "    print('Средние оценки между возрастными группами не различаются')\n"
   ]
  },
  {
   "cell_type": "markdown",
   "id": "4bf965eb",
   "metadata": {},
   "source": [
    "**Итоговый Вывод:**\n",
    "\n",
    "--------\n",
    "\n",
    "**Значимо ли улучшился дизайн посадочной страницы сайта?**\n",
    "\n",
    "**Ответ:** Улучшение дизайна посадочной страницы сайта является статистически значимым при уровне значимости равным **0.05**, однако стоит заметить, что при уровне более высоких уровней значимости равным,например, **0.01** - изменения не стат. значимы. \n",
    "\n",
    "--------\n",
    "\n",
    "**Есть ли влияние возраста на оценку нового дизайна?**\n",
    "\n",
    "**Ответ:** Есть, умеренная отрицательная корреляция (Спирмана) равная **-0.372**, также стоит отметить, что уровень значимости сильно меньше критического, а именно - **0.002** - корреляция стат. значима\n",
    "\n",
    "--------\n",
    "**Рекомендации отделу маркетинга по результатам проведенного анализа:**\n",
    "\n",
    "**Ответ:** \n",
    "\n",
    "* Обратить внимание на возрастную структуру целевой аудитории, так как возраст оказывает влияние на оценку дизайна посадочной страницы сайта.\n",
    "\n",
    "* Продолжать работу над улучшением дизайна посадочной страницы сайта, так как проведенный анализ показал, что улучшение дизайна является статистически значимым при уровне значимости **0.05** (**p-value=0.03**). Чтобы значимость проявлялась на более высоких уровней значимости для снижения вероятности ложных результатов.\n",
    "\n",
    "* В целом, рекомендуется проводить более глубокий анализ потребностей и предпочтений целевой аудитории, чтобы оптимизировать дизайн посадочной страницы сайта и повысить эффективность маркетинговых кампаний.\n",
    "\n",
    "\n",
    "\n",
    "--------\n"
   ]
  }
 ],
 "metadata": {
  "kernelspec": {
   "display_name": "Python 3 (ipykernel)",
   "language": "python",
   "name": "python3"
  },
  "language_info": {
   "codemirror_mode": {
    "name": "ipython",
    "version": 3
   },
   "file_extension": ".py",
   "mimetype": "text/x-python",
   "name": "python",
   "nbconvert_exporter": "python",
   "pygments_lexer": "ipython3",
   "version": "3.9.7"
  },
  "toc": {
   "base_numbering": 1,
   "nav_menu": {},
   "number_sections": true,
   "sideBar": true,
   "skip_h1_title": false,
   "title_cell": "Table of Contents",
   "title_sidebar": "Contents",
   "toc_cell": false,
   "toc_position": {},
   "toc_section_display": true,
   "toc_window_display": false
  }
 },
 "nbformat": 4,
 "nbformat_minor": 5
}
