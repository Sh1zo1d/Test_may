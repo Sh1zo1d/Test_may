{
 "cells": [
  {
   "cell_type": "markdown",
   "id": "840347d3",
   "metadata": {},
   "source": [
    "Абонент хочет оптимизировать свои затраты на связь, сменив текущий тарифный план. Три оператора сотовой связи прислали свои предложения: описание всех тарифных планов агрегированы в единый документ. Имеется также выгрузка исходящих вызовов абонента за последние 6 месяцев.\n",
    "Необходимо исследовать характер исходящих звонков абонента и предложить оптимальный тариф, обосновав свои рекомендации аналитическими расчетами. \n",
    "Примечание: начать исследование рекомендуется с описания начального набора данных.\n"
   ]
  },
  {
   "cell_type": "markdown",
   "id": "7a4505b2",
   "metadata": {},
   "source": [
    "ТАРИФЫ:\n",
    "* Монстр общения - tarif_1\n",
    "* Хочу сказать - tarif_2\n",
    "* Больше слов - tarif_3\n",
    "* 33 копейки - tarif_4\n",
    "* Много звонков- tarif_5"
   ]
  },
  {
   "cell_type": "markdown",
   "id": "4d1d150f",
   "metadata": {},
   "source": [
    "## Загрузка нужных библиотек"
   ]
  },
  {
   "cell_type": "code",
   "execution_count": 1,
   "id": "91cdefd2",
   "metadata": {},
   "outputs": [],
   "source": [
    "# !pip install pandas\n",
    "# !pip install math \n",
    "# !pip install datetime \n",
    "# !pip install numpy\n",
    "# !pip install re"
   ]
  },
  {
   "cell_type": "code",
   "execution_count": 2,
   "id": "b21796a2",
   "metadata": {},
   "outputs": [],
   "source": [
    "import pandas as pd\n",
    "import math \n",
    "import datetime \n",
    "import matplotlib.pyplot as plt\n",
    "import numpy as np\n",
    "import re"
   ]
  },
  {
   "cell_type": "markdown",
   "id": "f015f6e8",
   "metadata": {},
   "source": [
    "## Загрузка данных"
   ]
  },
  {
   "cell_type": "code",
   "execution_count": 3,
   "id": "1282a416",
   "metadata": {},
   "outputs": [],
   "source": [
    "tarifs = ['Монстр общения',\n",
    "'Хочу сказать ',\n",
    "'Больше слов ',\n",
    "'33 копейки ',\n",
    "'Много звонков']"
   ]
  },
  {
   "cell_type": "code",
   "execution_count": 4,
   "id": "dd68095a",
   "metadata": {},
   "outputs": [],
   "source": [
    "tarif_dct = {}"
   ]
  },
  {
   "cell_type": "code",
   "execution_count": 5,
   "id": "4852a81e",
   "metadata": {},
   "outputs": [],
   "source": [
    "for i in range(len(tarifs)):\n",
    "    tarif_dct[f'tarif_{(i+1)}'] = tarifs[i]"
   ]
  },
  {
   "cell_type": "code",
   "execution_count": 6,
   "id": "727a1c42",
   "metadata": {},
   "outputs": [
    {
     "data": {
      "text/plain": [
       "{'tarif_1': 'Монстр общения',\n",
       " 'tarif_2': 'Хочу сказать ',\n",
       " 'tarif_3': 'Больше слов ',\n",
       " 'tarif_4': '33 копейки ',\n",
       " 'tarif_5': 'Много звонков'}"
      ]
     },
     "execution_count": 6,
     "metadata": {},
     "output_type": "execute_result"
    }
   ],
   "source": [
    "tarif_dct"
   ]
  },
  {
   "cell_type": "code",
   "execution_count": 7,
   "id": "2b41c20b",
   "metadata": {},
   "outputs": [],
   "source": [
    "data = pd.read_excel('Исходящие вызовы абонента.xlsx',index_col=0)"
   ]
  },
  {
   "cell_type": "code",
   "execution_count": 8,
   "id": "77dfdf20",
   "metadata": {
    "scrolled": true
   },
   "outputs": [],
   "source": [
    "data.columns=['call_duration','operator']\n",
    "data.index.rename('date',inplace=True)"
   ]
  },
  {
   "cell_type": "code",
   "execution_count": 9,
   "id": "572546e7",
   "metadata": {},
   "outputs": [
    {
     "data": {
      "text/plain": [
       "'00:01:49'"
      ]
     },
     "execution_count": 9,
     "metadata": {},
     "output_type": "execute_result"
    }
   ],
   "source": [
    "data['call_duration'][0]"
   ]
  },
  {
   "cell_type": "code",
   "execution_count": 10,
   "id": "1cb1cbb7",
   "metadata": {},
   "outputs": [],
   "source": [
    "def duration_simplify(row):\n",
    "    return (datetime.datetime.strptime(row, '%H:%M:%S').time().minute + 1)"
   ]
  },
  {
   "cell_type": "code",
   "execution_count": 11,
   "id": "98828804",
   "metadata": {},
   "outputs": [],
   "source": [
    "data['call_duration'] = data['call_duration'].apply(duration_simplify)"
   ]
  },
  {
   "cell_type": "code",
   "execution_count": 12,
   "id": "b30f53e7",
   "metadata": {
    "scrolled": false
   },
   "outputs": [
    {
     "data": {
      "text/html": [
       "<div>\n",
       "<style scoped>\n",
       "    .dataframe tbody tr th:only-of-type {\n",
       "        vertical-align: middle;\n",
       "    }\n",
       "\n",
       "    .dataframe tbody tr th {\n",
       "        vertical-align: top;\n",
       "    }\n",
       "\n",
       "    .dataframe thead th {\n",
       "        text-align: right;\n",
       "    }\n",
       "</style>\n",
       "<table border=\"1\" class=\"dataframe\">\n",
       "  <thead>\n",
       "    <tr style=\"text-align: right;\">\n",
       "      <th></th>\n",
       "      <th>call_duration</th>\n",
       "      <th>operator</th>\n",
       "    </tr>\n",
       "    <tr>\n",
       "      <th>date</th>\n",
       "      <th></th>\n",
       "      <th></th>\n",
       "    </tr>\n",
       "  </thead>\n",
       "  <tbody>\n",
       "    <tr>\n",
       "      <th>15.12.2010 10:50:54</th>\n",
       "      <td>2</td>\n",
       "      <td>билайн</td>\n",
       "    </tr>\n",
       "    <tr>\n",
       "      <th>15.12.2010 11:50:42</th>\n",
       "      <td>1</td>\n",
       "      <td>билайн</td>\n",
       "    </tr>\n",
       "  </tbody>\n",
       "</table>\n",
       "</div>"
      ],
      "text/plain": [
       "                     call_duration operator\n",
       "date                                       \n",
       "15.12.2010 10:50:54              2   билайн\n",
       "15.12.2010 11:50:42              1   билайн"
      ]
     },
     "execution_count": 12,
     "metadata": {},
     "output_type": "execute_result"
    }
   ],
   "source": [
    "data.head(2)"
   ]
  },
  {
   "cell_type": "code",
   "execution_count": 13,
   "id": "91e31241",
   "metadata": {},
   "outputs": [],
   "source": [
    "data.index = pd.to_datetime(data.index)\n",
    "data['month'] = data.index.month"
   ]
  },
  {
   "cell_type": "code",
   "execution_count": 14,
   "id": "087a8e55",
   "metadata": {
    "scrolled": true
   },
   "outputs": [
    {
     "name": "stdout",
     "output_type": "stream",
     "text": [
      "<class 'pandas.core.frame.DataFrame'>\n",
      "DatetimeIndex: 1230 entries, 2010-12-15 10:50:54 to 2010-09-27 14:13:48\n",
      "Data columns (total 3 columns):\n",
      " #   Column         Non-Null Count  Dtype \n",
      "---  ------         --------------  ----- \n",
      " 0   call_duration  1230 non-null   int64 \n",
      " 1   operator       1230 non-null   object\n",
      " 2   month          1230 non-null   int64 \n",
      "dtypes: int64(2), object(1)\n",
      "memory usage: 38.4+ KB\n"
     ]
    }
   ],
   "source": [
    "data.info()"
   ]
  },
  {
   "cell_type": "code",
   "execution_count": 15,
   "id": "69f0202d",
   "metadata": {},
   "outputs": [
    {
     "data": {
      "text/plain": [
       "Timedelta('347 days 05:28:51')"
      ]
     },
     "execution_count": 15,
     "metadata": {},
     "output_type": "execute_result"
    }
   ],
   "source": [
    "data.index.max() - data.index.min()"
   ]
  },
  {
   "cell_type": "code",
   "execution_count": 16,
   "id": "cb227a08",
   "metadata": {},
   "outputs": [
    {
     "data": {
      "text/plain": [
       "8"
      ]
     },
     "execution_count": 16,
     "metadata": {},
     "output_type": "execute_result"
    }
   ],
   "source": [
    "data['operator'].nunique()\n"
   ]
  },
  {
   "cell_type": "code",
   "execution_count": 17,
   "id": "6bce7303",
   "metadata": {},
   "outputs": [
    {
     "data": {
      "text/plain": [
       "array(['билайн', 'городской', 'мегафон', 'мтс', 'смартс', 'теле 2',\n",
       "       'уралсвязьинфом', 'яртелеком'], dtype=object)"
      ]
     },
     "execution_count": 17,
     "metadata": {},
     "output_type": "execute_result"
    }
   ],
   "source": [
    "data['operator'].unique()"
   ]
  },
  {
   "cell_type": "markdown",
   "id": "01e145de",
   "metadata": {},
   "source": [
    "Есть данные о звонках за 347 дней. Человек звонил 8 разным операторам:\n",
    "\n",
    "* 'билайн'\n",
    "* 'городской'\n",
    "* 'мегафон' \n",
    "* 'мтс'\n",
    "* 'смартс' \n",
    "* 'теле 2'\n",
    "* 'уралсвязьинфом'\n",
    "* 'яртелеком'"
   ]
  },
  {
   "cell_type": "code",
   "execution_count": 18,
   "id": "a6bf4b89",
   "metadata": {},
   "outputs": [],
   "source": [
    "first_condition_tarif_1  = data['call_duration']==1\n",
    "second_condition_tarif_1 = ((data['call_duration'] > 1) & \n",
    "                                         (data['call_duration'] < 10))"
   ]
  },
  {
   "cell_type": "code",
   "execution_count": 19,
   "id": "0e83fdbd",
   "metadata": {},
   "outputs": [],
   "source": [
    "data['cost_tarif_1'] = np.where(first_condition_tarif_1,1.5,\n",
    "                                np.where(second_condition_tarif_1,0.5,1))"
   ]
  },
  {
   "cell_type": "code",
   "execution_count": 20,
   "id": "3ec16b62",
   "metadata": {},
   "outputs": [],
   "source": [
    "data['cost_tarif_2'] = np.where(data['call_duration']<=5,3.95,0.4)"
   ]
  },
  {
   "cell_type": "code",
   "execution_count": 21,
   "id": "dcefe240",
   "metadata": {},
   "outputs": [],
   "source": [
    "cumulative_duration =0\n",
    "for i, call_duration in enumerate(data['call_duration']):\n",
    "    cumulative_duration+=call_duration\n",
    "    if cumulative_duration > 555:\n",
    "        start_index = i\n",
    "        break"
   ]
  },
  {
   "cell_type": "code",
   "execution_count": 22,
   "id": "ae67bf7c",
   "metadata": {
    "scrolled": true
   },
   "outputs": [
    {
     "name": "stderr",
     "output_type": "stream",
     "text": [
      "C:\\Users\\Egor\\anaconda3\\lib\\site-packages\\pandas\\core\\indexing.py:719: FutureWarning: Slicing a positional slice with .loc is not supported, and will raise TypeError in a future version.  Use .loc with labels or .iloc with positions instead.\n",
      "  indexer = self._get_setitem_indexer(key)\n"
     ]
    }
   ],
   "source": [
    "data.loc[:start_index, 'cost_tarif_3'] = 0\n",
    "data['cost_tarif_3'].fillna(value=1.95,inplace=True)"
   ]
  },
  {
   "cell_type": "code",
   "execution_count": 23,
   "id": "aa4c5778",
   "metadata": {
    "scrolled": true
   },
   "outputs": [
    {
     "data": {
      "text/html": [
       "<div>\n",
       "<style scoped>\n",
       "    .dataframe tbody tr th:only-of-type {\n",
       "        vertical-align: middle;\n",
       "    }\n",
       "\n",
       "    .dataframe tbody tr th {\n",
       "        vertical-align: top;\n",
       "    }\n",
       "\n",
       "    .dataframe thead th {\n",
       "        text-align: right;\n",
       "    }\n",
       "</style>\n",
       "<table border=\"1\" class=\"dataframe\">\n",
       "  <thead>\n",
       "    <tr style=\"text-align: right;\">\n",
       "      <th></th>\n",
       "      <th>call_duration</th>\n",
       "      <th>operator</th>\n",
       "      <th>month</th>\n",
       "      <th>cost_tarif_1</th>\n",
       "      <th>cost_tarif_2</th>\n",
       "      <th>cost_tarif_3</th>\n",
       "    </tr>\n",
       "    <tr>\n",
       "      <th>date</th>\n",
       "      <th></th>\n",
       "      <th></th>\n",
       "      <th></th>\n",
       "      <th></th>\n",
       "      <th></th>\n",
       "      <th></th>\n",
       "    </tr>\n",
       "  </thead>\n",
       "  <tbody>\n",
       "    <tr>\n",
       "      <th>2010-12-15 10:50:54</th>\n",
       "      <td>2</td>\n",
       "      <td>билайн</td>\n",
       "      <td>12</td>\n",
       "      <td>0.5</td>\n",
       "      <td>3.95</td>\n",
       "      <td>0.0</td>\n",
       "    </tr>\n",
       "    <tr>\n",
       "      <th>2010-12-15 11:50:42</th>\n",
       "      <td>1</td>\n",
       "      <td>билайн</td>\n",
       "      <td>12</td>\n",
       "      <td>1.5</td>\n",
       "      <td>3.95</td>\n",
       "      <td>0.0</td>\n",
       "    </tr>\n",
       "  </tbody>\n",
       "</table>\n",
       "</div>"
      ],
      "text/plain": [
       "                     call_duration operator  month  cost_tarif_1  \\\n",
       "date                                                               \n",
       "2010-12-15 10:50:54              2   билайн     12           0.5   \n",
       "2010-12-15 11:50:42              1   билайн     12           1.5   \n",
       "\n",
       "                     cost_tarif_2  cost_tarif_3  \n",
       "date                                             \n",
       "2010-12-15 10:50:54          3.95           0.0  \n",
       "2010-12-15 11:50:42          3.95           0.0  "
      ]
     },
     "execution_count": 23,
     "metadata": {},
     "output_type": "execute_result"
    }
   ],
   "source": [
    "data.head(2)"
   ]
  },
  {
   "cell_type": "code",
   "execution_count": 24,
   "id": "5c59ee5d",
   "metadata": {},
   "outputs": [],
   "source": [
    "data['cost_tarif_4'] = np.where(data['call_duration']==1,1,0.33)"
   ]
  },
  {
   "cell_type": "code",
   "execution_count": 25,
   "id": "0b707c82",
   "metadata": {},
   "outputs": [
    {
     "data": {
      "text/plain": [
       "array(['билайн', 'городской', 'мегафон', 'мтс', 'смартс', 'теле 2',\n",
       "       'уралсвязьинфом', 'яртелеком'], dtype=object)"
      ]
     },
     "execution_count": 25,
     "metadata": {},
     "output_type": "execute_result"
    }
   ],
   "source": [
    "data['operator'].unique()"
   ]
  },
  {
   "cell_type": "code",
   "execution_count": 26,
   "id": "37e41b1f",
   "metadata": {},
   "outputs": [],
   "source": [
    "first_condition_tarif_5 = ((data['call_duration'] < 6)\n",
    "                            &  (data['call_duration'] > 30)\n",
    "                           & (data['operator'] != \"мтс\"))\n"
   ]
  },
  {
   "cell_type": "code",
   "execution_count": 27,
   "id": "6b43d9b1",
   "metadata": {},
   "outputs": [],
   "source": [
    "second_condition_tarif_5 = ((data['call_duration'] > 5)\n",
    "                            &  (data['call_duration'] < 31)\n",
    "                           & (data['operator'] != \"мтс\"))"
   ]
  },
  {
   "cell_type": "code",
   "execution_count": 28,
   "id": "44b184dd",
   "metadata": {},
   "outputs": [],
   "source": [
    "data['cost_tarif_5'] = np.where(first_condition_tarif_5,0.9,np.where(second_condition_tarif_5,0.05,0))"
   ]
  },
  {
   "cell_type": "code",
   "execution_count": 29,
   "id": "2f0fd392",
   "metadata": {},
   "outputs": [],
   "source": [
    "first_condition_tarif_5_mts = ((data['call_duration'] < 6)\n",
    "                            &  (data['call_duration'] > 30))\n"
   ]
  },
  {
   "cell_type": "code",
   "execution_count": 30,
   "id": "9608038f",
   "metadata": {},
   "outputs": [],
   "source": [
    "data['cost_tarif_6'] = np.where(first_condition_tarif_5_mts,0.9,0.05)"
   ]
  },
  {
   "cell_type": "markdown",
   "id": "1ddcd82e",
   "metadata": {},
   "source": [
    "## Количество совершенных исходящих вызовов по месяцам и операторам\n"
   ]
  },
  {
   "cell_type": "code",
   "execution_count": 31,
   "id": "29bb4694",
   "metadata": {},
   "outputs": [],
   "source": [
    "# рассчитываем общую продолжительность звонков за каждый месяц для каждого оператора\n",
    "calls_by_month_operator = data.groupby(['operator', 'month'])['call_duration'].sum()\n"
   ]
  },
  {
   "cell_type": "code",
   "execution_count": 32,
   "id": "d8a93df8",
   "metadata": {
    "scrolled": true
   },
   "outputs": [
    {
     "data": {
      "image/png": "[encoded data removed]",
      "text/plain": [
       "<Figure size 432x288 with 1 Axes>"
      ]
     },
     "metadata": {
      "needs_background": "light"
     },
     "output_type": "display_data"
    }
   ],
   "source": [
    "# список операторов\n",
    "operators = data['operator'].unique()\n",
    "# цикл по операторам\n",
    "for operator in operators:\n",
    "    # выбираем данные для текущего оператора\n",
    "    operator_data = calls_by_month_operator.loc[operator]\n",
    "    \n",
    "    # создаем график\n",
    "    plt.plot(operator_data.index, operator_data.values, label=operator)\n",
    "    \n",
    "# добавляем легенду и метки осей\n",
    "plt.legend()\n",
    "plt.xlabel('Месяц')\n",
    "plt.title('Общая длительность звокнов по месяцам и операторам')\n",
    "plt.ylabel('Длительность звонков (минуты) ')\n",
    "plt.legend(loc='upper center', bbox_to_anchor=(0.5, -0.15), ncol=2)\n",
    "plt.grid(color='LightBlue', alpha=0.7, linestyle=':', linewidth=2)\n",
    "# выводим график\n",
    "plt.show()\n"
   ]
  },
  {
   "cell_type": "markdown",
   "id": "151e81e9",
   "metadata": {},
   "source": [
    "## Операторы связи, на которые совершаются большинство исходящих вызовов."
   ]
  },
  {
   "cell_type": "code",
   "execution_count": 33,
   "id": "594df5b2",
   "metadata": {},
   "outputs": [
    {
     "data": {
      "image/png": "[encoded data removed]",
      "text/plain": [
       "<Figure size 432x288 with 1 Axes>"
      ]
     },
     "metadata": {
      "needs_background": "light"
     },
     "output_type": "display_data"
    }
   ],
   "source": [
    "operators = data['operator'].unique()\n",
    "\n",
    "# цикл по операторам\n",
    "for operator in operators:\n",
    "    # выбираем данные для текущего оператора\n",
    "    operator_data = calls_by_month_operator.loc[operator]\n",
    "    \n",
    "    # считаем общую длительность звонков для текущего оператора\n",
    "    total_duration = operator_data.sum()\n",
    "    \n",
    "    # создаем столбчатый график\n",
    "    plt.bar(operator, total_duration, label=operator)\n",
    "    \n",
    "# добавляем легенду и метки осей\n",
    "plt.legend()\n",
    "plt.title('Длительность звонков по операторам')\n",
    "plt.xlabel('Операторы')\n",
    "plt.ylabel('Длительность звонков всего (минуты)')\n",
    "plt.legend(loc='upper center', bbox_to_anchor=(0.5, -0.15), ncol=2)\n",
    "plt.grid(color='LightBlue', alpha=0.7, linestyle=':', linewidth=2)\n",
    "plt.xticks(rotation=80)# выводим график\n",
    "plt.show()\n"
   ]
  },
  {
   "cell_type": "code",
   "execution_count": 34,
   "id": "f2c5eb6e",
   "metadata": {},
   "outputs": [],
   "source": [
    "def call_cost(row,i):\n",
    "    return row['call_duration'] * row[f'cost_tarif_{i}']"
   ]
  },
  {
   "cell_type": "code",
   "execution_count": 35,
   "id": "0e954ea3",
   "metadata": {},
   "outputs": [],
   "source": [
    "for i in range(1,7):\n",
    "    data[f'total_call_tarif_{i}'] = data.apply(call_cost, args=(i,), axis=1)\n"
   ]
  },
  {
   "cell_type": "code",
   "execution_count": 36,
   "id": "d3677d21",
   "metadata": {
    "scrolled": false
   },
   "outputs": [],
   "source": [
    "for i in range(1,7):\n",
    "    data[f'total_cost_{i}'] = data[f'total_call_tarif_{i}'].sum()"
   ]
  },
  {
   "cell_type": "code",
   "execution_count": 37,
   "id": "618b4f32",
   "metadata": {},
   "outputs": [],
   "source": [
    "total_cost_data = data.iloc[:,-6:].head(1).reset_index().drop('date',axis=1)"
   ]
  },
  {
   "cell_type": "code",
   "execution_count": 38,
   "id": "f50ad48f",
   "metadata": {
    "scrolled": true
   },
   "outputs": [],
   "source": [
    "total_cost_data = total_cost_data.T"
   ]
  },
  {
   "cell_type": "code",
   "execution_count": 39,
   "id": "21e40838",
   "metadata": {},
   "outputs": [],
   "source": [
    "total_cost_data.columns = ['total_cost']\n"
   ]
  },
  {
   "cell_type": "code",
   "execution_count": 40,
   "id": "1f51de0a",
   "metadata": {},
   "outputs": [],
   "source": [
    "total_cost_data= total_cost_data.sort_values(by='total_cost')"
   ]
  },
  {
   "cell_type": "code",
   "execution_count": 41,
   "id": "4303494b",
   "metadata": {
    "scrolled": true
   },
   "outputs": [
    {
     "data": {
      "text/html": [
       "<div>\n",
       "<style scoped>\n",
       "    .dataframe tbody tr th:only-of-type {\n",
       "        vertical-align: middle;\n",
       "    }\n",
       "\n",
       "    .dataframe tbody tr th {\n",
       "        vertical-align: top;\n",
       "    }\n",
       "\n",
       "    .dataframe thead th {\n",
       "        text-align: right;\n",
       "    }\n",
       "</style>\n",
       "<table border=\"1\" class=\"dataframe\">\n",
       "  <thead>\n",
       "    <tr style=\"text-align: right;\">\n",
       "      <th></th>\n",
       "      <th>total_cost</th>\n",
       "    </tr>\n",
       "  </thead>\n",
       "  <tbody>\n",
       "    <tr>\n",
       "      <th>total_cost_5</th>\n",
       "      <td>28.25</td>\n",
       "    </tr>\n",
       "    <tr>\n",
       "      <th>total_cost_6</th>\n",
       "      <td>133.60</td>\n",
       "    </tr>\n",
       "    <tr>\n",
       "      <th>total_cost_4</th>\n",
       "      <td>1362.82</td>\n",
       "    </tr>\n",
       "    <tr>\n",
       "      <th>total_cost_1</th>\n",
       "      <td>2263.00</td>\n",
       "    </tr>\n",
       "    <tr>\n",
       "      <th>total_cost_3</th>\n",
       "      <td>4128.15</td>\n",
       "    </tr>\n",
       "    <tr>\n",
       "      <th>total_cost_2</th>\n",
       "      <td>7753.45</td>\n",
       "    </tr>\n",
       "  </tbody>\n",
       "</table>\n",
       "</div>"
      ],
      "text/plain": [
       "              total_cost\n",
       "total_cost_5       28.25\n",
       "total_cost_6      133.60\n",
       "total_cost_4     1362.82\n",
       "total_cost_1     2263.00\n",
       "total_cost_3     4128.15\n",
       "total_cost_2     7753.45"
      ]
     },
     "execution_count": 41,
     "metadata": {},
     "output_type": "execute_result"
    }
   ],
   "source": [
    "total_cost_data"
   ]
  },
  {
   "cell_type": "code",
   "execution_count": 42,
   "id": "b9e2b33f",
   "metadata": {
    "scrolled": true
   },
   "outputs": [
    {
     "data": {
      "text/plain": [
       "{'tarif_1': 'Монстр общения',\n",
       " 'tarif_2': 'Хочу сказать ',\n",
       " 'tarif_3': 'Больше слов ',\n",
       " 'tarif_4': '33 копейки ',\n",
       " 'tarif_5': 'Много звонков'}"
      ]
     },
     "execution_count": 42,
     "metadata": {},
     "output_type": "execute_result"
    }
   ],
   "source": [
    "tarif_dct"
   ]
  },
  {
   "cell_type": "code",
   "execution_count": 43,
   "id": "13a7ace7",
   "metadata": {
    "scrolled": true
   },
   "outputs": [
    {
     "data": {
      "image/png": "[encoded data removed]",
      "text/plain": [
       "<Figure size 576x432 with 1 Axes>"
      ]
     },
     "metadata": {
      "needs_background": "light"
     },
     "output_type": "display_data"
    }
   ],
   "source": [
    "# создаем объект графика\n",
    "fig, ax = plt.subplots(figsize=(8, 6))\n",
    "\n",
    "# задаем данные для осей x и y\n",
    "x = total_cost_data.index\n",
    "y = total_cost_data['total_cost']\n",
    "\n",
    "# строим столбчатый график\n",
    "ax.bar(x, y)\n",
    "\n",
    "# настраиваем внешний вид графика\n",
    "ax.set_title('Общая стоимость тарифов')\n",
    "ax.set_xlabel('Тариф')\n",
    "ax.set_ylabel('Общая стоимость в рублях')\n",
    "ax.tick_params(axis='x', rotation=45)\n",
    "plt.grid(color='LightBlue', alpha=0.7, linestyle=':', linewidth=2)\n",
    "# отображаем график\n",
    "plt.show()\n"
   ]
  },
  {
   "cell_type": "markdown",
   "id": "7924e0c9",
   "metadata": {},
   "source": [
    "В тарифе \"Много звонков\" нет речи о том, что звонки на номера этого же оператора, МТС, стоят каких-то денег.\n",
    "\n",
    "Таким образом, я сделал раздвоение для тарифа №5:\n",
    "\n",
    "* total_cost_5 - Если звонки на МТС бесплатные\n",
    "* total_cost_6 - Если звонки на МТС стоят столько же, как и на другие операторы"
   ]
  },
  {
   "cell_type": "markdown",
   "id": "f78f775e",
   "metadata": {},
   "source": [
    "**Вывод:**\n",
    "\n",
    "В итоге, в обоих случаях тариф от МТС самый выгодный для человека. "
   ]
  }
 ],
 "metadata": {
  "kernelspec": {
   "display_name": "Python 3 (ipykernel)",
   "language": "python",
   "name": "python3"
  },
  "language_info": {
   "codemirror_mode": {
    "name": "ipython",
    "version": 3
   },
   "file_extension": ".py",
   "mimetype": "text/x-python",
   "name": "python",
   "nbconvert_exporter": "python",
   "pygments_lexer": "ipython3",
   "version": "3.9.7"
  },
  "toc": {
   "base_numbering": 1,
   "nav_menu": {},
   "number_sections": true,
   "sideBar": true,
   "skip_h1_title": false,
   "title_cell": "Table of Contents",
   "title_sidebar": "Contents",
   "toc_cell": false,
   "toc_position": {},
   "toc_section_display": true,
   "toc_window_display": false
  }
 },
 "nbformat": 4,
 "nbformat_minor": 5
}
